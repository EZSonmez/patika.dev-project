{
 "cells": [
  {
   "attachments": {},
   "cell_type": "markdown",
   "metadata": {},
   "source": [
    "# **Patika.dev Merge Sort projesi**"
   ]
  },
  {
   "attachments": {},
   "cell_type": "markdown",
   "metadata": {},
   "source": [
    "### Soru 1: [16,21,11,8,12,22] -> Merge Sort\n",
    "\n",
    "### Yukarıdaki dizinin sort türüne göre aşamalarını yazınız."
   ]
  },
  {
   "attachments": {},
   "cell_type": "markdown",
   "metadata": {},
   "source": [
    "**0. Aşama:** *Başlangıç konumu* [16,21,11,8,12,22]\n",
    "<br>\n",
    "**1. Aşama:** *2'ye ayrılma durumu* [<font color=\"red\">16,21,11</font>] [<font color=\"green\">8,12,22</font>]\n",
    "<br>\n",
    "**2. Aşama:** *4'e ayrılma durumu* [<font color=\"red\">16,21</font>] [<font color=\"aqua\">11</font>] [<font color=\"green\">8,12</font>] [<font color=\"aqua\">22</font>]\n",
    "<br>\n",
    "**3. Aşama:** *Ayrıştırılma durumu* [<font color=\"aqua\">16</font>] [<font color=\"aqua\">21</font>] [<font color=\"aqua\">11</font>] [<font color=\"aqua\">8</font>] [<font color=\"aqua\">12</font>] [<font color=\"aqua\">22</font>]\n",
    "<br>\n",
    "**4. Aşama:** *Sıralanmış İlk Birleştirilme durumu* [<font color=\"red\">11,16,21</font>] [<font color=\"green\">8,12,22</font>]\n",
    "<br>\n",
    "**5. Aşama:** *Son Birleştirilme durumu* [<font color=\"lightdarkgreen\">8,11,12,16,21,22</font>]"
   ]
  },
  {
   "attachments": {},
   "cell_type": "markdown",
   "metadata": {},
   "source": [
    "#### Big-O gösterimini yazınız."
   ]
  },
  {
   "attachments": {},
   "cell_type": "markdown",
   "metadata": {},
   "source": [
    "O(nlogn)"
   ]
  },
  {
   "cell_type": "markdown",
   "metadata": {},
   "source": []
  }
 ],
 "metadata": {
  "kernelspec": {
   "display_name": "Python 3",
   "language": "python",
   "name": "python3"
  },
  "language_info": {
   "name": "python",
   "version": "3.10.5"
  },
  "orig_nbformat": 4,
  "vscode": {
   "interpreter": {
    "hash": "2a8dfe095fce2b5e88c64a2c3ee084c8e0e0d70b23e7b95b1cfb538be294c5c8"
   }
  }
 },
 "nbformat": 4,
 "nbformat_minor": 2
}
