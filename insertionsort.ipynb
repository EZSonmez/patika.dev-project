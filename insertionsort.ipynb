{
 "cells": [
  {
   "attachments": {},
   "cell_type": "markdown",
   "metadata": {},
   "source": [
    "# **Patika.dev Insortion Sort (Selected Sort) projesi**"
   ]
  },
  {
   "attachments": {},
   "cell_type": "markdown",
   "metadata": {},
   "source": [
    "### **Soru 1: [22,27,16,2,18,6] -> Insertion Sort**\n",
    "\n",
    "### *Yukarı verilen dizinin sort türüne göre aşamalarını yazınız.*"
   ]
  },
  {
   "attachments": {},
   "cell_type": "markdown",
   "metadata": {},
   "source": [
    "**1. Adım:** [<font color=\"red\">22,</font>|<font color=\"green\">27</font>,16,2,18,6] --> 22 sayısı, 27 ile kıyaslanır. Bu durumda 22 sayısı 27 den küçük olduğu için diğer sayıya geçilir.\n",
    "<br>\n",
    "**2. Adım:** [<font color=\"red\">22,27</font>|<font color=\"green\">16</font>,2,18,6] --> 27 sayısı, 16 ile kıyaslanır. 16 sayısı sıralanmış tüm sayılarla kıyaslandıktan sonra en küçüğü olduğu için başa yazılır. Son durum: [<font color=\"green\">16</font>,<font color=\"red\">22,27</font>|,2,18,6] olur.\n",
    "<br>\n",
    "**3. Adım:** [<font color=\"red\">16,22,27</font>|,<font color=\"green\">2</font>,18,6] --> 27 sayısı, 2 ile kıyaslanır. 2 sayısı sıralanmış tüm sayılarla kıyaslandıktan sonra en küçüğü olduğu için başa yazılır. Son durum: [<font color=\"green\">2,</font>,<font color=\"red\">16,22,27</font>|,18,6] olur.\n",
    "<br>\n",
    "**4. Adım:** [<font color=\"red\">2,16,22,27</font>|,<font color=\"green\">18</font>,6] --> 27 sayısı, 18 ile kıyaslanır. 18 sayısı, 16 dan büyük olduğu için 16 nın sağ tarafına yazılır.  Son durum: [<font color=\"red\">2,16,<font color=\"green\">18,</font>22,27</font>|,6] olur.\n",
    "<br>\n",
    "**5. Adım:** [<font color=\"red\">2,16,18,22,27</font>|,<font color=\"green\">6</font>] --> 27 sayısı, 6 ile kıyaslanır. 6 Sayısı, 2 den büyük olduğu için 2 nin sağ tarafına yazılır. Son durum: [<font color=\"red\">2,<font color=\"green\">6,</font>16,18,22,27</font>] olur."
   ]
  },
  {
   "attachments": {},
   "cell_type": "markdown",
   "metadata": {},
   "source": [
    "**Insortion Sort ile sıralanmış listenin son hali:**\n",
    "<br>\n",
    "[<font color=\"green\">2,6,16,18,22,27</font>]\n",
    "<br>'dir."
   ]
  },
  {
   "attachments": {},
   "cell_type": "markdown",
   "metadata": {},
   "source": [
    "#### *Big-O gösterimini yazınız.*"
   ]
  },
  {
   "attachments": {},
   "cell_type": "markdown",
   "metadata": {},
   "source": [
    "*Insortion Sort* Big-O gösterimi: **O(n²)** dir."
   ]
  },
  {
   "attachments": {},
   "cell_type": "markdown",
   "metadata": {},
   "source": [
    "#### *Time Complexity: Dizi sıralandıktan sonra 18 sayısı aşağıdaki case'lerden hangisinin kapsamına girer? Yazınız*"
   ]
  },
  {
   "attachments": {},
   "cell_type": "markdown",
   "metadata": {},
   "source": [
    "Dizi sıralandıktan sonra 18 sayısı, listenin ortasında bulunmaktadır. Bu durumdan dolayı Time Complexity olarak **Average Case** kapsamına girmektedir."
   ]
  },
  {
   "attachments": {},
   "cell_type": "markdown",
   "metadata": {},
   "source": [
    "### **Soru 2: [7,3,5,8,2,9,4,15,6] dizisinin Selection Sort'a göre ilk 4 adımını yazınız.**"
   ]
  },
  {
   "attachments": {},
   "cell_type": "markdown",
   "metadata": {},
   "source": [
    "**1. Adım:** [<font color=\"red\">7</font>,<font color=\"green\">3</font>,5,8,2,9,4,15,6] --> [<font color=\"green\">3</font>,<font color=\"red\">7</font>,5,8,2,9,4,15,6]\n",
    "<br>\n",
    "**2. Adım:** [<font color=\"red\">3,7</font>,<font color=\"green\">5</font>,8,2,9,4,15,6] --> [<font color=\"red\">3,<font color=\"green\">5</font>,7</font>,8,2,9,4,15,6]\n",
    "<br>\n",
    "**3. Adım:** [<font color=\"red\">3,5,7</font>,<font color=\"green\">8</font>,2,9,4,15,6] --> [<font color=\"red\">3,5,7</font>,<font color=\"green\">8</font>,2,9,4,15,6]\n",
    "<br>\n",
    "**4. Adım:** [<font color=\"red\">3,5,7,8</font>,<font color=\"green\">2</font>,9,4,15,6] --> [<font color=\"red\"><font color=\"green\">2</font>,3,5,7,8</font>,9,4,15,6]"
   ]
  }
 ],
 "metadata": {
  "kernelspec": {
   "display_name": "pythonProject",
   "language": "python",
   "name": "python3"
  },
  "language_info": {
   "codemirror_mode": {
    "name": "ipython",
    "version": 3
   },
   "file_extension": ".py",
   "mimetype": "text/x-python",
   "name": "python",
   "nbconvert_exporter": "python",
   "pygments_lexer": "ipython3",
   "version": "3.10.6"
  },
  "orig_nbformat": 4,
  "vscode": {
   "interpreter": {
    "hash": "e358195abc59ced5951ba1c806e0033133d27c247a7a8589689b921973e2a600"
   }
  }
 },
 "nbformat": 4,
 "nbformat_minor": 2
}
